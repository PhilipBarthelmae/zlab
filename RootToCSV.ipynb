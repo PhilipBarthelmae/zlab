{
 "cells": [
  {
   "cell_type": "markdown",
   "id": "cfaa01b6-5c94-48e1-8592-2b1cfddf86cb",
   "metadata": {},
   "source": [
    "# How to use:\n",
    "\n",
    "This notebook automatically downloads the following two datasets from the CERN Open Data Portal and combines them to the dataset used in the thesis and lab course:\n",
    "\n",
    "- Run 2012B: https://opendata.cern.ch/record/12365\n",
    "- Run 2012C: https://opendata.cern.ch/record/12366\n",
    "\n",
    "This notebook extracts all the neccessary information from the original files in the root format and saves them to a zipped CSV file for easy use.\n",
    "Some basic filtering is performed.\n",
    "\n",
    "Size of download: 8 GB\n",
    "\n",
    "Size of final dataset: 1.4 GB\n",
    "\n",
    "Name of final dataset: Run2012BC_DoubleMuons_prefiltered.zip\n",
    "\n",
    "The flag `keepOriginalFiles` can be set to True if the original .root files from the CERN Open Data Portal are to be kept."
   ]
  },
  {
   "cell_type": "code",
   "execution_count": 1,
   "id": "06371a59-c9ed-4f44-afab-9f2d5f328b04",
   "metadata": {},
   "outputs": [],
   "source": [
    "import pandas as pd\n",
    "import uproot\n",
    "import numpy as np\n",
    "import awkward as ak\n",
    "import requests as rq\n",
    "import os\n",
    "\n",
    "keepOriginalFiles = False # Whether Original .root files are kept \n"
   ]
  },
  {
   "cell_type": "code",
   "execution_count": 2,
   "id": "59c07c62",
   "metadata": {},
   "outputs": [],
   "source": [
    "#download the files from the CERN Open Data Portal\n",
    "#total size 7.7 GB -> this may take a while\n",
    "\n",
    "urlRunB = \"https://opendata.cern.ch/record/12365/files/Run2012B_DoubleMuParked.root\"\n",
    "urlRunC = \"https://opendata.cern.ch/record/12366/files/Run2012C_DoubleMuParked.root\"\n",
    "\n",
    "fileB = rq.get(urlRunB)\n",
    "fileNameB = fileB.headers[\"content-disposition\"].split(\"=\")[-1]\n",
    "\n",
    "fileC = rq.get(urlRunC)\n",
    "fileNameC = fileC.headers[\"content-disposition\"].split(\"=\")[-1]"
   ]
  },
  {
   "cell_type": "code",
   "execution_count": 3,
   "id": "e0b837d3",
   "metadata": {},
   "outputs": [],
   "source": [
    "#save files to disk\n",
    "with open(fileNameB, 'wb') as file:\n",
    "    file.write(fileB.content)\n",
    "with open(fileNameC, 'wb') as file:\n",
    "    file.write(fileC.content)"
   ]
  },
  {
   "cell_type": "code",
   "execution_count": 6,
   "id": "56f3f818",
   "metadata": {},
   "outputs": [],
   "source": [
    "with uproot.open(fileNameB+\":Events\") as events1, uproot.open(fileNameC+\":Events\") as events2: \n",
    "    \n",
    "    #create boolean mask to filter out events with exactly 2 muons\n",
    "    mask1 = events1['nMuon'].array(library =\"np\") == 2\n",
    "    mask2 = events2['nMuon'].array(library =\"np\") == 2\n",
    "    \n",
    "    #create new df to copy values into \n",
    "    colNames =  ['pt','eta','phi','Q','dxy','dz','Iso3'] #names of columns in df\n",
    "    #the columns dxy, dz and Iso3 are currently only in use in the analysis behind the thesis\n",
    "    nCols = len(colNames) #how many columns per particle\n",
    "    df = pd.DataFrame(columns = pd.MultiIndex.from_arrays([nCols*['mu1']+nCols*['mu2'],colNames+colNames])) \n",
    "    \n",
    "    #dictionary to translate from root column names to df column names\n",
    "    #names from root file\n",
    "    rootCols = ['Muon_pt','Muon_eta','Muon_phi','Muon_charge','Muon_dxy','Muon_dz','Muon_pfRelIso03_all']\n",
    "    names = dict(zip(rootCols,colNames))\n",
    "    \n",
    "    for c in rootCols:\n",
    "        data1 = ak.to_numpy(ak.Array.__getitem__(events1[c].array(),mask1))\n",
    "        data2 = ak.to_numpy(ak.Array.__getitem__(events2[c].array(),mask2))\n",
    "        data = np.concatenate((data1,data2)).T\n",
    "        df[\"mu1\",names[c]] = data[0]\n",
    "        df[\"mu2\",names[c]] = data[1]\n",
    "        \n",
    "    #basic filtering\n",
    "    df = df[(df.mu1.Iso3 >= 0) & (df.mu2.Iso3 >= 0)]\n",
    "    df = df.sort_index(axis=1) \n",
    "    \n",
    "    #save as zipped csv\n",
    "    df.to_csv(\"Run2012BC_DoubleMuons_prefiltered.zip\",index = False)\n",
    "\n",
    "if keepOriginalFiles == False:\n",
    "    os.remove(fileNameB)\n",
    "    os.remove(fileNameC)"
   ]
  }
 ],
 "metadata": {
  "kernelspec": {
   "display_name": "Python 3 (ipykernel)",
   "language": "python",
   "name": "python3"
  },
  "language_info": {
   "codemirror_mode": {
    "name": "ipython",
    "version": 3
   },
   "file_extension": ".py",
   "mimetype": "text/x-python",
   "name": "python",
   "nbconvert_exporter": "python",
   "pygments_lexer": "ipython3",
   "version": "3.11.7"
  }
 },
 "nbformat": 4,
 "nbformat_minor": 5
}
