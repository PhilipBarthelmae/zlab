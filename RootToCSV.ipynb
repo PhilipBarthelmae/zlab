{
 "cells": [
  {
   "cell_type": "markdown",
   "id": "cfaa01b6-5c94-48e1-8592-2b1cfddf86cb",
   "metadata": {},
   "source": [
    "# How to use:\n",
    "\n",
    "This notebook can be used to prepare two datasets from the CERN Open Data Portal for the analysis.\n",
    "The two datasets can be found at the following links:\n",
    "\n",
    "- Run 2012B: https://opendata.cern.ch/record/12365\n",
    "- Run 2012C: https://opendata.cern.ch/record/12366\n",
    "\n",
    "This notebook extracts all the neccessary information from the original files in the root format and saves them to a CSV file for easy use.\n",
    "Some basic filtering is performed to reduce the file size.\n",
    "\n",
    "After downloading the original files from the Cern Open Data Portal, place them in the same directory as this notebook and execute all cells. \n",
    "The resulting dataset is then saved in the same directory as \"Run2012BC_DoubleMuons_prefiltered.zip\".\n",
    "\n",
    "The four following imports are required.\n"
   ]
  },
  {
   "cell_type": "code",
   "execution_count": null,
   "id": "06371a59-c9ed-4f44-afab-9f2d5f328b04",
   "metadata": {},
   "outputs": [],
   "source": [
    "import pandas as pd\n",
    "import uproot\n",
    "import numpy as np\n",
    "import awkward as ak"
   ]
  },
  {
   "cell_type": "code",
   "execution_count": null,
   "id": "fbaa43ec-3e0f-45fc-85ce-a248de5dd492",
   "metadata": {},
   "outputs": [],
   "source": [
    "#open files\n",
    "events1 = uproot.open(\"Run2012B_DoubleMuParked.root:Events\") #read file 1\n",
    "events2 = uproot.open(\"Run2012C_DoubleMuParked.root:Events\") #read file 2"
   ]
  },
  {
   "cell_type": "code",
   "execution_count": null,
   "id": "a37be0af-aacf-40b2-be1c-a13fa3d8fcfd",
   "metadata": {},
   "outputs": [],
   "source": [
    "#create boolean mask to filter out events with exactly 2 myons\n",
    "mask1 = events1['nMuon'].array(library =\"np\") == 2\n",
    "mask2 = events2['nMuon'].array(library =\"np\") == 2"
   ]
  },
  {
   "cell_type": "code",
   "execution_count": null,
   "id": "29a7fa2d-d82b-4c7b-93cc-b9b300bccff6",
   "metadata": {},
   "outputs": [],
   "source": [
    "#create new df to copy values into \n",
    "colNames =  ['pt','eta','phi','Q','dxy','dz','Iso3'] #names of columns in df\n",
    "#the columns dxy, dz and Iso3 are currently only in use in the analysis behind the thesis\n",
    "nCols = len(colNames) #how many columns per particle\n",
    "df = pd.DataFrame(columns = pd.MultiIndex.from_arrays([nCols*['mu1']+nCols*['mu2'],colNames+colNames])) \n",
    "df"
   ]
  },
  {
   "cell_type": "code",
   "execution_count": null,
   "id": "84247a03-66cc-46b8-b525-bfa6da5c6f94",
   "metadata": {},
   "outputs": [],
   "source": [
    "#dictionary to translate from root column names to df column names\n",
    "#names fromm root file\n",
    "rootCols = ['Muon_pt','Muon_eta','Muon_phi','Muon_charge','Muon_dxy','Muon_dz','Muon_pfRelIso03_all']\n",
    "names = dict(zip(rootCols,colNames))"
   ]
  },
  {
   "cell_type": "code",
   "execution_count": null,
   "id": "4d2516b3-6597-49ec-9243-8520c35ce013",
   "metadata": {},
   "outputs": [],
   "source": [
    "for c in rootCols:\n",
    "    data1 = ak.to_numpy(ak.Array.__getitem__(events1[c].array(),mask1))\n",
    "    data2 = ak.to_numpy(ak.Array.__getitem__(events2[c].array(),mask2))\n",
    "    data = np.concatenate((data1,data2)).T\n",
    "    df[\"mu1\",names[c]] = data[0]\n",
    "    df[\"mu2\",names[c]] = data[1]\n",
    "df = df[(df.mu1.Iso3 >= 0) & (df.mu2.Iso3 >= 0)]\n",
    "df = df.sort_index(axis=1)\n",
    "df"
   ]
  },
  {
   "cell_type": "code",
   "execution_count": null,
   "id": "e5fd658c-4de7-43cd-a08b-92b5e0822d56",
   "metadata": {},
   "outputs": [],
   "source": [
    "df.to_csv(\"Run2012BC_DoubleMuons_prefiltered.zip\",index = False)"
   ]
  }
 ],
 "metadata": {
  "kernelspec": {
   "display_name": "Python 3 (ipykernel)",
   "language": "python",
   "name": "python3"
  },
  "language_info": {
   "codemirror_mode": {
    "name": "ipython",
    "version": 3
   },
   "file_extension": ".py",
   "mimetype": "text/x-python",
   "name": "python",
   "nbconvert_exporter": "python",
   "pygments_lexer": "ipython3",
   "version": "3.10.16"
  }
 },
 "nbformat": 4,
 "nbformat_minor": 5
}
